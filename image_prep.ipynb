{
 "cells": [
  {
   "cell_type": "markdown",
   "metadata": {},
   "source": [
    "# Gray Scale Image"
   ]
  },
  {
   "cell_type": "markdown",
   "metadata": {},
   "source": [
    "## Holes Errors"
   ]
  },
  {
   "cell_type": "code",
   "execution_count": null,
   "metadata": {},
   "outputs": [],
   "source": [
    "import cv2\n",
    "import numpy as np\n",
    "\n",
    "def create_holes(image, num_holes=10, hole_size=10):\n",
    "\n",
    "    modified_image = image.copy()\n",
    "    h, w = image.shape[:2]\n",
    "    \n",
    "    for _ in range(num_holes):\n",
    "        # Randomly select the center of the hole\n",
    "        center_x = np.random.randint(hole_size, w - hole_size)\n",
    "        center_y = np.random.randint(hole_size, h - hole_size)\n",
    "\n",
    "        # Create a circular hole\n",
    "        cv2.circle(modified_image, (center_x, center_y), hole_size, (0, 0, 0), -1)\n",
    "\n",
    "    return modified_image\n",
    "\n",
    "# Example usage\n",
    "image_path = r\"C:\\Users\\VIET HOANG - VTS\\Desktop\\testdata\\main_large.jpg\"\n",
    "image = cv2.imread(image_path, cv2.IMREAD_GRAYSCALE)\n",
    "image_with_holes = create_holes(image, num_holes=80, hole_size=5)\n"
   ]
  },
  {
   "cell_type": "markdown",
   "metadata": {},
   "source": [
    "## Text Errors"
   ]
  },
  {
   "cell_type": "code",
   "execution_count": null,
   "metadata": {},
   "outputs": [],
   "source": [
    "import cv2\n",
    "import numpy as np\n",
    "from matplotlib import pyplot as plt\n",
    "\n",
    "def put_multiline_text(image, text, position, font, font_scale, color, thickness):\n",
    "    lines = text.split('\\n')\n",
    "    y = position[1]\n",
    "    \n",
    "    for line in lines:\n",
    "        (text_width, text_height) = cv2.getTextSize(line, font, font_scale, thickness)[0]\n",
    "        cv2.putText(image, line, (position[0], y), font, font_scale, color, thickness, cv2.LINE_AA)\n",
    "        y += text_height + 5  # Adjusting line spacing\n",
    "    return image\n",
    "\n",
    "image_path = r\"C:\\Users\\VIET HOANG - VTS\\Desktop\\testdata\\main_large.jpg\"\n",
    "image = cv2.imread(image_path, cv2.IMREAD_GRAYSCALE)\n",
    "\n",
    "text = \"Hi\\nThis is\\nSuper Dama \\nged TExt\\n Hope THe\\nGRNN can\\nFiX it\"  # Example multiline text\n",
    "position = (0, 100)  # Position to place the text\n",
    "font = cv2.FONT_HERSHEY_SIMPLEX\n",
    "font_scale = 3.0\n",
    "color = (0, 0, 0)  # Black color (BGR format)\n",
    "thickness = 5\n",
    "\n",
    "damaged_image_text = put_multiline_text(image, text, position, font, font_scale, color, thickness)\n",
    "\n",
    "# Convert image from grayscale to RGB\n",
    "damaged_image_text_rgb = cv2.cvtColor(damaged_image_text, cv2.COLOR_GRAY2RGB)\n",
    "\n",
    "# Display the image with text using matplotlib\n",
    "plt.imshow(damaged_image_text_rgb)\n",
    "plt.title('Text Damage')\n",
    "plt.axis('off')\n",
    "plt.show()"
   ]
  },
  {
   "cell_type": "markdown",
   "metadata": {},
   "source": [
    "## Scratch Errors"
   ]
  },
  {
   "cell_type": "code",
   "execution_count": null,
   "metadata": {},
   "outputs": [],
   "source": [
    "import random\n",
    "image_path = r\"C:\\Users\\VIET HOANG - VTS\\Desktop\\testdata\\main_large.jpg\"\n",
    "image = cv2.imread(image_path, cv2.IMREAD_GRAYSCALE)\n",
    "def create_scratches(image, num_scratches, scratch_length, scratch_thickness):\n",
    "    h, w = image.shape[:2]\n",
    "    \n",
    "    for _ in range(num_scratches):\n",
    "        start_x = random.randint(0, w - scratch_length)\n",
    "        start_y = random.randint(0, h)\n",
    "        end_x = start_x + scratch_length\n",
    "        end_y = start_y\n",
    "        \n",
    "        cv2.line(image, (start_x, start_y), (end_x, end_y), (0, 0, 0), scratch_thickness)\n",
    "    \n",
    "    return image\n",
    "scratch_img = create_scratches(image, num_scratches=50, scratch_length=100, scratch_thickness=5)\n",
    "cv2.imwrite(r'C:\\Users\\VIET HOANG - VTS\\Desktop\\testoutput\\scratch_img.jpg', scratch_img)\n",
    "plt.imshow(scratch_img, cmap='gray')\n",
    "plt.title('Scratch Damage')\n",
    "plt.axis('off')\n",
    "plt.show()"
   ]
  },
  {
   "cell_type": "markdown",
   "metadata": {},
   "source": [
    "## Noise Errors"
   ]
  },
  {
   "cell_type": "code",
   "execution_count": null,
   "metadata": {},
   "outputs": [],
   "source": [
    "def add_salt_pepper_noise(image, salt_prob, pepper_prob):\n",
    "    noisy_image = np.copy(image)\n",
    "    \n",
    "    # Salt noise\n",
    "    num_salt = np.ceil(salt_prob * image.size).astype(int)\n",
    "    coords = [np.random.randint(0, i - 1, num_salt) for i in image.shape]\n",
    "    noisy_image[coords[0], coords[1]] = 255\n",
    "\n",
    "    # Pepper noise\n",
    "    num_pepper = np.ceil(pepper_prob * image.size).astype(int)\n",
    "    coords = [np.random.randint(0, i - 1, num_pepper) for i in image.shape]\n",
    "    noisy_image[coords[0], coords[1]] = 0\n",
    "\n",
    "    return noisy_image\n",
    "\n",
    "\n",
    "# Load the original image\n",
    "image_path = r\"C:\\Users\\VIET HOANG - VTS\\Desktop\\testdata\\main_large.jpg\"\n",
    "image = cv2.imread(image_path, cv2.IMREAD_GRAYSCALE)\n",
    "\n",
    "# Add salt-and-pepper noise to the image\n",
    "salt_prob = 0.15\n",
    "pepper_prob = 0.15\n",
    "noisy_image = add_salt_pepper_noise(image, salt_prob, pepper_prob)\n",
    "\n",
    "# Display the noisy image\n",
    "plt.imshow(noisy_image, cmap='gray')\n",
    "plt.title('Noisy Image (30%)')\n",
    "plt.axis('off')\n",
    "plt.show()"
   ]
  },
  {
   "cell_type": "markdown",
   "metadata": {},
   "source": [
    "# Color Image"
   ]
  },
  {
   "cell_type": "markdown",
   "metadata": {},
   "source": [
    "## Text Errors"
   ]
  },
  {
   "cell_type": "code",
   "execution_count": null,
   "metadata": {},
   "outputs": [],
   "source": [
    "import cv2\n",
    "import matplotlib.pyplot as plt\n",
    "\n",
    "def put_multiline_text(image, text, position, font, font_scale, color, thickness):\n",
    "    lines = text.split('\\n')\n",
    "    y = position[1]\n",
    "    \n",
    "    for line in lines:\n",
    "        (text_width, text_height) = cv2.getTextSize(line, font, font_scale, thickness)[0]\n",
    "        cv2.putText(image, line, (position[0], y), font, font_scale, color, thickness, cv2.LINE_AA)\n",
    "        y += text_height + 5  # Adjusting line spacing\n",
    "    return image\n",
    "\n",
    "image_path = r\"C:\\Users\\VIET HOANG - VTS\\Desktop\\testdata\\Lenna_color.png\"\n",
    "image = cv2.imread(image_path)\n",
    "\n",
    "if image is None:\n",
    "    print(\"Image not found.\")\n",
    "else:\n",
    "    text = \"Hi\\nThis is\\nSuper Damaged Text\\nHope The\\nGRNN can\\nFix it\"  # Example multiline text\n",
    "    position = (0, 100)  # Position to place the text\n",
    "    font = cv2.FONT_HERSHEY_SIMPLEX\n",
    "    font_scale = 3.0\n",
    "    color = (0, 0, 0)  # Black color (BGR format)\n",
    "    thickness = 5\n",
    "\n",
    "    damaged_image_text = put_multiline_text(image, text, position, font, font_scale, color, thickness)\n",
    "    \n",
    "    # Convert BGR image to RGB for displaying with matplotlib\n",
    "    damaged_image_text_rgb = cv2.cvtColor(damaged_image_text, cv2.COLOR_BGR2RGB)\n",
    "    cv2.imwrite(r\"C:\\Users\\VIET HOANG - VTS\\Desktop\\testoutput\\color_image_text.jpg\", damaged_image_text)\n",
    "    # Display the image with text using matplotlib\n",
    "    plt.imshow(damaged_image_text_rgb)\n",
    "    plt.title('Text Damage')\n",
    "    plt.axis('off')\n",
    "    plt.show()\n"
   ]
  },
  {
   "cell_type": "markdown",
   "metadata": {},
   "source": [
    "## Holes Errors"
   ]
  },
  {
   "cell_type": "code",
   "execution_count": null,
   "metadata": {},
   "outputs": [],
   "source": [
    "def create_multiple_holes(image_path, output_path, num_holes=5, max_hole_size=50):\n",
    "    \"\"\"\n",
    "    Create multiple holes on a color image.\n",
    "\n",
    "    Parameters:\n",
    "    image_path (str): Path to the input color image.\n",
    "    output_path (str): Path to save the output image with holes.\n",
    "    num_holes (int): Number of holes to create on the image.\n",
    "    max_hole_size (int): Maximum size of the holes.\n",
    "\n",
    "    Returns:\n",
    "    None\n",
    "    \"\"\"\n",
    "    # Load the color image\n",
    "    image = cv2.imread(image_path)\n",
    "    if image is None:\n",
    "        raise ValueError(f\"Image at path {image_path} could not be loaded.\")\n",
    "    \n",
    "    height, width, _ = image.shape\n",
    "    \n",
    "    for _ in range(num_holes):\n",
    "        # Randomly choose the center and size of the hole\n",
    "        center_x = random.randint(0, width)\n",
    "        center_y = random.randint(0, height)\n",
    "        hole_size = random.randint(10, max_hole_size)\n",
    "        \n",
    "        # Draw a circle (hole) on the image\n",
    "        cv2.circle(image, (center_x, center_y), hole_size, (0, 0, 0), -1)\n",
    "    \n",
    "    # Save the resulting image\n",
    "    cv2.imwrite(output_path, image)"
   ]
  },
  {
   "cell_type": "markdown",
   "metadata": {},
   "source": [
    "## Square Errors"
   ]
  },
  {
   "cell_type": "code",
   "execution_count": null,
   "metadata": {},
   "outputs": [],
   "source": [
    "def create_square_errors(img, num_squares, square_size=10, color='b'):\n",
    "    # Get image dimensions\n",
    "    img_height, img_width, _ = img.shape  # Adjusted for color images\n",
    "\n",
    "    for _ in range(num_squares):\n",
    "        # Randomly choose the top-left corner of the square\n",
    "        x = random.randint(0, img_width - square_size)\n",
    "        y = random.randint(0, img_height - square_size)\n",
    "        \n",
    "        # Draw the square\n",
    "        if color == 'w':\n",
    "            cv2.rectangle(img, (x, y), (x + square_size, y + square_size), (255, 255, 255), -1)\n",
    "        else:\n",
    "            cv2.rectangle(img, (x, y), (x + square_size, y + square_size), (0, 0, 0), -1)\n",
    "    \n",
    "    return img"
   ]
  },
  {
   "cell_type": "markdown",
   "metadata": {},
   "source": [
    "# Scratches Errors"
   ]
  },
  {
   "cell_type": "code",
   "execution_count": null,
   "metadata": {},
   "outputs": [],
   "source": [
    "import numpy as np\n",
    "import cv2\n",
    "import random\n",
    "import matplotlib.pyplot as plt\n",
    "\n",
    "def apply_random_scratches(image, num_scratches=10, scratch_length=20, scratch_color=(255, 255, 255), thickness=1):\n",
    "    scratched_image = image.copy()\n",
    "    \n",
    "    height, width = scratched_image.shape[:2]\n",
    "    \n",
    "    for _ in range(num_scratches):\n",
    "        # Random starting point\n",
    "        x1 = random.randint(0, width - 1)\n",
    "        y1 = random.randint(0, height - 1)\n",
    "        \n",
    "        # Random angle for the scratch\n",
    "        angle = random.uniform(0, 2 * np.pi)\n",
    "        \n",
    "        # Calculate the end point using the angle and scratch length\n",
    "        x2 = int(x1 + scratch_length * np.cos(angle))\n",
    "        y2 = int(y1 + scratch_length * np.sin(angle))\n",
    "        \n",
    "        # Ensure the end point is within the image boundaries\n",
    "        x2 = np.clip(x2, 0, width - 1)\n",
    "        y2 = np.clip(y2, 0, height - 1)\n",
    "        \n",
    "        # Draw the scratch\n",
    "        cv2.line(scratched_image, (x1, y1), (x2, y2), scratch_color, thickness)\n",
    "    \n",
    "    return scratched_image\n",
    "\n",
    "# Load the image\n",
    "image = cv2.imread(r\"C:\\Users\\VIET HOANG - VTS\\Desktop\\testdata\\Lenna_color.png\")\n",
    "\n",
    "# Apply random scratches\n",
    "scratched_image = apply_random_scratches(image, num_scratches=50, scratch_length=150, scratch_color=(0, 0, 0), thickness=4)\n",
    "\n",
    "# Save the scratched image\n",
    "cv2.imwrite(r\"C:\\Users\\VIET HOANG - VTS\\Desktop\\testoutput\\color_scratched_image.jpg\", scratched_image)\n",
    "\n",
    "# Convert BGR to RGB for displaying with matplotlib\n",
    "scratched_image_rgb = cv2.cvtColor(scratched_image, cv2.COLOR_BGR2RGB)\n",
    "\n",
    "# Display the image using matplotlib\n",
    "plt.title('After')\n",
    "plt.imshow(scratched_image_rgb)\n",
    "plt.axis('off')\n",
    "plt.show()\n"
   ]
  },
  {
   "cell_type": "markdown",
   "metadata": {},
   "source": [
    "## Noise Errors"
   ]
  },
  {
   "cell_type": "code",
   "execution_count": null,
   "metadata": {},
   "outputs": [],
   "source": [
    "def add_salt_pepper_noise(image, salt_prob, pepper_prob):\n",
    "    noisy_image = np.copy(image)\n",
    "    \n",
    "    # Salt noise\n",
    "    num_salt = np.ceil(salt_prob * image.size).astype(int)\n",
    "    coords = [np.random.randint(0, i - 1, num_salt) for i in image.shape]\n",
    "    noisy_image[coords[0], coords[1]] = 255\n",
    "\n",
    "    # Pepper noise\n",
    "    num_pepper = np.ceil(pepper_prob * image.size).astype(int)\n",
    "    coords = [np.random.randint(0, i - 1, num_pepper) for i in image.shape]\n",
    "    noisy_image[coords[0], coords[1]] = 0\n",
    "\n",
    "    return noisy_image\n",
    "image_path = r\"C:\\Users\\VIET HOANG - VTS\\Desktop\\testdata\\Lenna_color.png\"\n",
    "image = cv2.imread(image_path)\n",
    "image = cv2.cvtColor(image, cv2.COLOR_BGR2RGB)  # Convert BGR to RGB\n",
    "\n",
    "# Add salt-and-pepper noise to the image\n",
    "salt_prob = 0.15\n",
    "pepper_prob = 0.15\n",
    "noisy_image = add_salt_pepper_noise(image, salt_prob, pepper_prob)\n",
    "cv2.imwrite(r'C:\\Users\\VIET HOANG - VTS\\Desktop\\testoutput\\color_salt_pepper.jpg', cv2.cvtColor(noisy_image, cv2.COLOR_RGB2BGR))\n",
    "# Display the noisy image\n",
    "plt.imshow(noisy_image)\n",
    "plt.title('Noisy Image (30%)')\n",
    "plt.axis('off')\n",
    "plt.show()"
   ]
  }
 ],
 "metadata": {
  "language_info": {
   "name": "python"
  }
 },
 "nbformat": 4,
 "nbformat_minor": 2
}
